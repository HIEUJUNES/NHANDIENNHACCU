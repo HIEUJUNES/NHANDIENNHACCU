{
  "nbformat": 4,
  "nbformat_minor": 0,
  "metadata": {
    "colab": {
      "provenance": [],
      "authorship_tag": "ABX9TyMvfZ4AAnJtXl+1qxPrVR6S",
      "include_colab_link": true
    },
    "kernelspec": {
      "name": "python3",
      "display_name": "Python 3"
    },
    "language_info": {
      "name": "python"
    },
    "accelerator": "GPU",
    "gpuClass": "standard"
  },
  "cells": [
    {
      "cell_type": "markdown",
      "metadata": {
        "id": "view-in-github",
        "colab_type": "text"
      },
      "source": [
        "<a href=\"https://colab.research.google.com/github/HIEUJUNES/NHANDIENNHACCU/blob/main/NHACCU.ipynb\" target=\"_parent\"><img src=\"https://colab.research.google.com/assets/colab-badge.svg\" alt=\"Open In Colab\"/></a>"
      ]
    },
    {
      "cell_type": "code",
      "execution_count": 1,
      "metadata": {
        "id": "UyP7Y07tHoXF"
      },
      "outputs": [],
      "source": [
        "from sklearn.model_selection import train_test_split\n",
        "import matplotlib.pyplot as plt\n",
        "import numpy as np\n",
        "from keras.utils import np_utils\n",
        "from keras.models import Sequential\n",
        "from keras.layers import Dense, Activation, Dropout, Conv2D, MaxPooling2D, Flatten\n",
        "from keras.callbacks import EarlyStopping, ModelCheckpoint\n",
        "from sklearn.utils import validation \n",
        "from sklearn import preprocessing\n",
        "from keras.utils import to_categorical\n",
        "from keras.models import load_model\n",
        "from keras.utils import load_img, img_to_array\n",
        "from keras.preprocessing.image import ImageDataGenerator"
      ]
    },
    {
      "cell_type": "code",
      "source": [
        "from google.colab import drive\n",
        "drive.mount('/content/gdrive')"
      ],
      "metadata": {
        "id": "mtz8ltrRIKs6",
        "colab": {
          "base_uri": "https://localhost:8080/"
        },
        "outputId": "129553f2-8e17-4777-d3b4-dbfbacd28868"
      },
      "execution_count": 2,
      "outputs": [
        {
          "output_type": "stream",
          "name": "stdout",
          "text": [
            "Mounted at /content/gdrive\n"
          ]
        }
      ]
    },
    {
      "cell_type": "code",
      "source": [
        "%cd /content/gdrive/MyDrive/NHẠC CỤ TRUYỀN THỐNG/INSTRUMENTALS"
      ],
      "metadata": {
        "id": "RgJt1akpIK-4",
        "colab": {
          "base_uri": "https://localhost:8080/"
        },
        "outputId": "d21d801a-e7ba-485a-e231-90f288ab890b"
      },
      "execution_count": 3,
      "outputs": [
        {
          "output_type": "stream",
          "name": "stdout",
          "text": [
            "/content/gdrive/MyDrive/NHẠC CỤ TRUYỀN THỐNG/INSTRUMENTALS\n"
          ]
        }
      ]
    },
    {
      "cell_type": "code",
      "source": [
        "train_data = ImageDataGenerator(rescale=1./255, shear_range=0.2, zoom_range=0.2, horizontal_flip=True)"
      ],
      "metadata": {
        "id": "WrdBQdDfIX2y"
      },
      "execution_count": 4,
      "outputs": []
    },
    {
      "cell_type": "code",
      "source": [
        "train_set = train_data.flow_from_directory('/content/gdrive/MyDrive/NHẠC CỤ TRUYỀN THỐNG/INSTRUMENTALS/train',target_size=(150,150), batch_size=32, class_mode='categorical')\n",
        "test_set = train_data.flow_from_directory('/content/gdrive/MyDrive/NHẠC CỤ TRUYỀN THỐNG/INSTRUMENTALS/test',target_size=(150,150), batch_size=32, class_mode='categorical')"
      ],
      "metadata": {
        "id": "qEPY0PrdIeLK",
        "colab": {
          "base_uri": "https://localhost:8080/"
        },
        "outputId": "434763b4-e101-430d-83d0-ebbc22a69f05"
      },
      "execution_count": 9,
      "outputs": [
        {
          "output_type": "stream",
          "name": "stdout",
          "text": [
            "Found 291 images belonging to 6 classes.\n",
            "Found 273 images belonging to 6 classes.\n"
          ]
        }
      ]
    },
    {
      "cell_type": "code",
      "source": [
        "train_set.class_indices"
      ],
      "metadata": {
        "id": "aDC4Hxf2IohR",
        "colab": {
          "base_uri": "https://localhost:8080/"
        },
        "outputId": "3f8f6fd0-e96f-4a0a-d3eb-789fb9ad346f"
      },
      "execution_count": 10,
      "outputs": [
        {
          "output_type": "execute_result",
          "data": {
            "text/plain": [
              "{'Sáo Trúc': 0,\n",
              " 'Đàn Bầu': 1,\n",
              " 'Đàn Nguyệt': 2,\n",
              " 'Đàn Tranh': 3,\n",
              " 'Đàn Tỳ Bà': 4,\n",
              " 'Đàn Đá': 5}"
            ]
          },
          "metadata": {},
          "execution_count": 10
        }
      ]
    },
    {
      "cell_type": "code",
      "source": [
        "test_set.class_indices"
      ],
      "metadata": {
        "id": "cg3TxyIsIxeM",
        "colab": {
          "base_uri": "https://localhost:8080/"
        },
        "outputId": "10f7f58d-85e3-4e24-83e6-6a0c6513bef1"
      },
      "execution_count": 11,
      "outputs": [
        {
          "output_type": "execute_result",
          "data": {
            "text/plain": [
              "{'Sáo Trúc': 0,\n",
              " 'Đàn Bầu': 1,\n",
              " 'Đàn Nguyệt': 2,\n",
              " 'Đàn Tranh': 3,\n",
              " 'Đàn Tỳ Bà': 4,\n",
              " 'Đàn Đá': 5}"
            ]
          },
          "metadata": {},
          "execution_count": 11
        }
      ]
    },
    {
      "cell_type": "code",
      "source": [
        "model=Sequential()\n",
        "\n",
        "model.add(Conv2D(32,(3,3), activation='relu', kernel_initializer='he_uniform', padding='same',input_shape=(150,150,3))) \n",
        "model.add(Conv2D(32,(3,3), activation='relu', kernel_initializer='he_uniform', padding='same'))\n",
        "model.add(MaxPooling2D(2,2))\n",
        "model.add(Conv2D(64,(3,3), activation='relu', kernel_initializer='he_uniform', padding='same',input_shape=(150,150,3))) \n",
        "model.add(Conv2D(64,(3,3), activation='relu', kernel_initializer='he_uniform', padding='same'))\n",
        "model.add(MaxPooling2D(2,2))\n",
        "model.add(Conv2D(128,(3,3), activation='relu', kernel_initializer='he_uniform', padding='same',input_shape=(150,150,3))) \n",
        "model.add(Conv2D(128,(3,3), activation='relu', kernel_initializer='he_uniform', padding='same'))\n",
        "model.add(MaxPooling2D(2,2))\n",
        "model.add(Flatten())\n",
        "model.add(Dense(128,activation='relu',kernel_initializer='he_uniform'))\n",
        "model.add(Dropout(0.2))\n",
        "model.add(Dense(6,activation='softmax'))\n",
        "model.summary()"
      ],
      "metadata": {
        "id": "Z5j4GtFlIzPt",
        "colab": {
          "base_uri": "https://localhost:8080/"
        },
        "outputId": "534dbfdf-fe77-410d-b0af-753cae41ca87"
      },
      "execution_count": 12,
      "outputs": [
        {
          "output_type": "stream",
          "name": "stdout",
          "text": [
            "Model: \"sequential\"\n",
            "_________________________________________________________________\n",
            " Layer (type)                Output Shape              Param #   \n",
            "=================================================================\n",
            " conv2d (Conv2D)             (None, 150, 150, 32)      896       \n",
            "                                                                 \n",
            " conv2d_1 (Conv2D)           (None, 150, 150, 32)      9248      \n",
            "                                                                 \n",
            " max_pooling2d (MaxPooling2D  (None, 75, 75, 32)       0         \n",
            " )                                                               \n",
            "                                                                 \n",
            " conv2d_2 (Conv2D)           (None, 75, 75, 64)        18496     \n",
            "                                                                 \n",
            " conv2d_3 (Conv2D)           (None, 75, 75, 64)        36928     \n",
            "                                                                 \n",
            " max_pooling2d_1 (MaxPooling  (None, 37, 37, 64)       0         \n",
            " 2D)                                                             \n",
            "                                                                 \n",
            " conv2d_4 (Conv2D)           (None, 37, 37, 128)       73856     \n",
            "                                                                 \n",
            " conv2d_5 (Conv2D)           (None, 37, 37, 128)       147584    \n",
            "                                                                 \n",
            " max_pooling2d_2 (MaxPooling  (None, 18, 18, 128)      0         \n",
            " 2D)                                                             \n",
            "                                                                 \n",
            " flatten (Flatten)           (None, 41472)             0         \n",
            "                                                                 \n",
            " dense (Dense)               (None, 128)               5308544   \n",
            "                                                                 \n",
            " dropout (Dropout)           (None, 128)               0         \n",
            "                                                                 \n",
            " dense_1 (Dense)             (None, 6)                 774       \n",
            "                                                                 \n",
            "=================================================================\n",
            "Total params: 5,596,326\n",
            "Trainable params: 5,596,326\n",
            "Non-trainable params: 0\n",
            "_________________________________________________________________\n"
          ]
        }
      ]
    },
    {
      "cell_type": "code",
      "source": [
        "model.compile(optimizer='adam',loss='categorical_crossentropy',metrics=['accuracy'])\n",
        "model.fit(train_set,epochs=100,batch_size=128,verbose=1)"
      ],
      "metadata": {
        "id": "WsT7ZTQpI2ur",
        "colab": {
          "base_uri": "https://localhost:8080/"
        },
        "outputId": "ee69db64-c901-4f57-b4d0-79d0eb845f10"
      },
      "execution_count": 13,
      "outputs": [
        {
          "output_type": "stream",
          "name": "stdout",
          "text": [
            "Epoch 1/100\n",
            "10/10 [==============================] - 139s 13s/step - loss: 5.1956 - accuracy: 0.2234\n",
            "Epoch 2/100\n",
            "10/10 [==============================] - 3s 252ms/step - loss: 1.5396 - accuracy: 0.3333\n",
            "Epoch 3/100\n",
            "10/10 [==============================] - 3s 255ms/step - loss: 1.2034 - accuracy: 0.4674\n",
            "Epoch 4/100\n",
            "10/10 [==============================] - 3s 257ms/step - loss: 1.0013 - accuracy: 0.5670\n",
            "Epoch 5/100\n",
            "10/10 [==============================] - 3s 254ms/step - loss: 0.8563 - accuracy: 0.6289\n",
            "Epoch 6/100\n",
            "10/10 [==============================] - 3s 256ms/step - loss: 0.7183 - accuracy: 0.6942\n",
            "Epoch 7/100\n",
            "10/10 [==============================] - 3s 260ms/step - loss: 0.8782 - accuracy: 0.6082\n",
            "Epoch 8/100\n",
            "10/10 [==============================] - 3s 259ms/step - loss: 0.6868 - accuracy: 0.7216\n",
            "Epoch 9/100\n",
            "10/10 [==============================] - 3s 295ms/step - loss: 0.7629 - accuracy: 0.7079\n",
            "Epoch 10/100\n",
            "10/10 [==============================] - 3s 265ms/step - loss: 0.5696 - accuracy: 0.7663\n",
            "Epoch 11/100\n",
            "10/10 [==============================] - 3s 251ms/step - loss: 0.4781 - accuracy: 0.8076\n",
            "Epoch 12/100\n",
            "10/10 [==============================] - 3s 245ms/step - loss: 0.4872 - accuracy: 0.8213\n",
            "Epoch 13/100\n",
            "10/10 [==============================] - 3s 260ms/step - loss: 0.7034 - accuracy: 0.7491\n",
            "Epoch 14/100\n",
            "10/10 [==============================] - 3s 292ms/step - loss: 0.7622 - accuracy: 0.7148\n",
            "Epoch 15/100\n",
            "10/10 [==============================] - 3s 263ms/step - loss: 0.6395 - accuracy: 0.7663\n",
            "Epoch 16/100\n",
            "10/10 [==============================] - 3s 253ms/step - loss: 0.5341 - accuracy: 0.7973\n",
            "Epoch 17/100\n",
            "10/10 [==============================] - 3s 250ms/step - loss: 0.4516 - accuracy: 0.8419\n",
            "Epoch 18/100\n",
            "10/10 [==============================] - 3s 256ms/step - loss: 0.3951 - accuracy: 0.8522\n",
            "Epoch 19/100\n",
            "10/10 [==============================] - 3s 252ms/step - loss: 0.3722 - accuracy: 0.8832\n",
            "Epoch 20/100\n",
            "10/10 [==============================] - 3s 249ms/step - loss: 0.3103 - accuracy: 0.8763\n",
            "Epoch 21/100\n",
            "10/10 [==============================] - 3s 282ms/step - loss: 0.3120 - accuracy: 0.8660\n",
            "Epoch 22/100\n",
            "10/10 [==============================] - 3s 255ms/step - loss: 0.2766 - accuracy: 0.8935\n",
            "Epoch 23/100\n",
            "10/10 [==============================] - 3s 252ms/step - loss: 0.2460 - accuracy: 0.9313\n",
            "Epoch 24/100\n",
            "10/10 [==============================] - 3s 260ms/step - loss: 0.2095 - accuracy: 0.9278\n",
            "Epoch 25/100\n",
            "10/10 [==============================] - 3s 254ms/step - loss: 0.2420 - accuracy: 0.9072\n",
            "Epoch 26/100\n",
            "10/10 [==============================] - 3s 263ms/step - loss: 0.3598 - accuracy: 0.8729\n",
            "Epoch 27/100\n",
            "10/10 [==============================] - 3s 258ms/step - loss: 0.4113 - accuracy: 0.8522\n",
            "Epoch 28/100\n",
            "10/10 [==============================] - 3s 256ms/step - loss: 0.4164 - accuracy: 0.8247\n",
            "Epoch 29/100\n",
            "10/10 [==============================] - 3s 260ms/step - loss: 0.3313 - accuracy: 0.8557\n",
            "Epoch 30/100\n",
            "10/10 [==============================] - 3s 289ms/step - loss: 0.2460 - accuracy: 0.8935\n",
            "Epoch 31/100\n",
            "10/10 [==============================] - 4s 347ms/step - loss: 0.2402 - accuracy: 0.9072\n",
            "Epoch 32/100\n",
            "10/10 [==============================] - 3s 297ms/step - loss: 0.1702 - accuracy: 0.9244\n",
            "Epoch 33/100\n",
            "10/10 [==============================] - 3s 267ms/step - loss: 0.1282 - accuracy: 0.9416\n",
            "Epoch 34/100\n",
            "10/10 [==============================] - 3s 259ms/step - loss: 0.1299 - accuracy: 0.9450\n",
            "Epoch 35/100\n",
            "10/10 [==============================] - 3s 268ms/step - loss: 0.1745 - accuracy: 0.9278\n",
            "Epoch 36/100\n",
            "10/10 [==============================] - 3s 261ms/step - loss: 0.1584 - accuracy: 0.9450\n",
            "Epoch 37/100\n",
            "10/10 [==============================] - 3s 254ms/step - loss: 0.1456 - accuracy: 0.9347\n",
            "Epoch 38/100\n",
            "10/10 [==============================] - 3s 256ms/step - loss: 0.1376 - accuracy: 0.9416\n",
            "Epoch 39/100\n",
            "10/10 [==============================] - 3s 262ms/step - loss: 0.0859 - accuracy: 0.9656\n",
            "Epoch 40/100\n",
            "10/10 [==============================] - 3s 252ms/step - loss: 0.0632 - accuracy: 0.9794\n",
            "Epoch 41/100\n",
            "10/10 [==============================] - 3s 259ms/step - loss: 0.0479 - accuracy: 0.9828\n",
            "Epoch 42/100\n",
            "10/10 [==============================] - 3s 288ms/step - loss: 0.0657 - accuracy: 0.9725\n",
            "Epoch 43/100\n",
            "10/10 [==============================] - 3s 263ms/step - loss: 0.0258 - accuracy: 0.9966\n",
            "Epoch 44/100\n",
            "10/10 [==============================] - 3s 262ms/step - loss: 0.0282 - accuracy: 0.9931\n",
            "Epoch 45/100\n",
            "10/10 [==============================] - 3s 264ms/step - loss: 0.0819 - accuracy: 0.9794\n",
            "Epoch 46/100\n",
            "10/10 [==============================] - 3s 261ms/step - loss: 0.1111 - accuracy: 0.9725\n",
            "Epoch 47/100\n",
            "10/10 [==============================] - 3s 256ms/step - loss: 0.1772 - accuracy: 0.9347\n",
            "Epoch 48/100\n",
            "10/10 [==============================] - 3s 268ms/step - loss: 0.6869 - accuracy: 0.8419\n",
            "Epoch 49/100\n",
            "10/10 [==============================] - 3s 261ms/step - loss: 0.3773 - accuracy: 0.8763\n",
            "Epoch 50/100\n",
            "10/10 [==============================] - 3s 257ms/step - loss: 0.2190 - accuracy: 0.9347\n",
            "Epoch 51/100\n",
            "10/10 [==============================] - 3s 263ms/step - loss: 0.4766 - accuracy: 0.8557\n",
            "Epoch 52/100\n",
            "10/10 [==============================] - 3s 261ms/step - loss: 0.3104 - accuracy: 0.8900\n",
            "Epoch 53/100\n",
            "10/10 [==============================] - 3s 257ms/step - loss: 0.1272 - accuracy: 0.9588\n",
            "Epoch 54/100\n",
            "10/10 [==============================] - 3s 257ms/step - loss: 0.1787 - accuracy: 0.9278\n",
            "Epoch 55/100\n",
            "10/10 [==============================] - 3s 282ms/step - loss: 0.1603 - accuracy: 0.9485\n",
            "Epoch 56/100\n",
            "10/10 [==============================] - 3s 262ms/step - loss: 0.1339 - accuracy: 0.9588\n",
            "Epoch 57/100\n",
            "10/10 [==============================] - 3s 258ms/step - loss: 0.1409 - accuracy: 0.9450\n",
            "Epoch 58/100\n",
            "10/10 [==============================] - 3s 259ms/step - loss: 0.0848 - accuracy: 0.9759\n",
            "Epoch 59/100\n",
            "10/10 [==============================] - 3s 263ms/step - loss: 0.2690 - accuracy: 0.9244\n",
            "Epoch 60/100\n",
            "10/10 [==============================] - 3s 255ms/step - loss: 0.0860 - accuracy: 0.9691\n",
            "Epoch 61/100\n",
            "10/10 [==============================] - 3s 261ms/step - loss: 0.1193 - accuracy: 0.9725\n",
            "Epoch 62/100\n",
            "10/10 [==============================] - 3s 264ms/step - loss: 0.0546 - accuracy: 0.9794\n",
            "Epoch 63/100\n",
            "10/10 [==============================] - 3s 303ms/step - loss: 0.0411 - accuracy: 0.9828\n",
            "Epoch 64/100\n",
            "10/10 [==============================] - 3s 275ms/step - loss: 0.0393 - accuracy: 0.9931\n",
            "Epoch 65/100\n",
            "10/10 [==============================] - 3s 258ms/step - loss: 0.0635 - accuracy: 0.9725\n",
            "Epoch 66/100\n",
            "10/10 [==============================] - 3s 259ms/step - loss: 0.0430 - accuracy: 0.9794\n",
            "Epoch 67/100\n",
            "10/10 [==============================] - 3s 251ms/step - loss: 0.0250 - accuracy: 0.9966\n",
            "Epoch 68/100\n",
            "10/10 [==============================] - 3s 263ms/step - loss: 0.1885 - accuracy: 0.9622\n",
            "Epoch 69/100\n",
            "10/10 [==============================] - 3s 259ms/step - loss: 0.2845 - accuracy: 0.9107\n",
            "Epoch 70/100\n",
            "10/10 [==============================] - 3s 262ms/step - loss: 0.3760 - accuracy: 0.9003\n",
            "Epoch 71/100\n",
            "10/10 [==============================] - 3s 258ms/step - loss: 0.1850 - accuracy: 0.9381\n",
            "Epoch 72/100\n",
            "10/10 [==============================] - 3s 270ms/step - loss: 0.1257 - accuracy: 0.9519\n",
            "Epoch 73/100\n",
            "10/10 [==============================] - 3s 280ms/step - loss: 0.0878 - accuracy: 0.9759\n",
            "Epoch 74/100\n",
            "10/10 [==============================] - 3s 264ms/step - loss: 0.0598 - accuracy: 0.9863\n",
            "Epoch 75/100\n",
            "10/10 [==============================] - 3s 301ms/step - loss: 0.0438 - accuracy: 0.9828\n",
            "Epoch 76/100\n",
            "10/10 [==============================] - 3s 291ms/step - loss: 0.0276 - accuracy: 0.9897\n",
            "Epoch 77/100\n",
            "10/10 [==============================] - 3s 260ms/step - loss: 0.0326 - accuracy: 0.9828\n",
            "Epoch 78/100\n",
            "10/10 [==============================] - 3s 257ms/step - loss: 0.0453 - accuracy: 0.9863\n",
            "Epoch 79/100\n",
            "10/10 [==============================] - 3s 264ms/step - loss: 0.0409 - accuracy: 0.9863\n",
            "Epoch 80/100\n",
            "10/10 [==============================] - 3s 260ms/step - loss: 0.0238 - accuracy: 0.9931\n",
            "Epoch 81/100\n",
            "10/10 [==============================] - 3s 263ms/step - loss: 0.0440 - accuracy: 0.9863\n",
            "Epoch 82/100\n",
            "10/10 [==============================] - 3s 277ms/step - loss: 0.0157 - accuracy: 0.9931\n",
            "Epoch 83/100\n",
            "10/10 [==============================] - 3s 256ms/step - loss: 0.0242 - accuracy: 0.9897\n",
            "Epoch 84/100\n",
            "10/10 [==============================] - 3s 259ms/step - loss: 0.1241 - accuracy: 0.9656\n",
            "Epoch 85/100\n",
            "10/10 [==============================] - 3s 314ms/step - loss: 0.0278 - accuracy: 0.9931\n",
            "Epoch 86/100\n",
            "10/10 [==============================] - 3s 292ms/step - loss: 0.0212 - accuracy: 1.0000\n",
            "Epoch 87/100\n",
            "10/10 [==============================] - 3s 261ms/step - loss: 0.0153 - accuracy: 1.0000\n",
            "Epoch 88/100\n",
            "10/10 [==============================] - 3s 267ms/step - loss: 0.0322 - accuracy: 0.9897\n",
            "Epoch 89/100\n",
            "10/10 [==============================] - 3s 262ms/step - loss: 0.0117 - accuracy: 0.9966\n",
            "Epoch 90/100\n",
            "10/10 [==============================] - 3s 263ms/step - loss: 0.0226 - accuracy: 0.9897\n",
            "Epoch 91/100\n",
            "10/10 [==============================] - 3s 265ms/step - loss: 0.0421 - accuracy: 0.9897\n",
            "Epoch 92/100\n",
            "10/10 [==============================] - 3s 262ms/step - loss: 0.0275 - accuracy: 0.9897\n",
            "Epoch 93/100\n",
            "10/10 [==============================] - 3s 264ms/step - loss: 0.0500 - accuracy: 0.9897\n",
            "Epoch 94/100\n",
            "10/10 [==============================] - 3s 293ms/step - loss: 0.0514 - accuracy: 0.9794\n",
            "Epoch 95/100\n",
            "10/10 [==============================] - 3s 265ms/step - loss: 0.0809 - accuracy: 0.9863\n",
            "Epoch 96/100\n",
            "10/10 [==============================] - 3s 263ms/step - loss: 0.0582 - accuracy: 0.9863\n",
            "Epoch 97/100\n",
            "10/10 [==============================] - 3s 263ms/step - loss: 0.0788 - accuracy: 0.9725\n",
            "Epoch 98/100\n",
            "10/10 [==============================] - 3s 267ms/step - loss: 0.0316 - accuracy: 0.9897\n",
            "Epoch 99/100\n",
            "10/10 [==============================] - 3s 262ms/step - loss: 0.0556 - accuracy: 0.9828\n",
            "Epoch 100/100\n",
            "10/10 [==============================] - 3s 262ms/step - loss: 0.0491 - accuracy: 0.9828\n"
          ]
        },
        {
          "output_type": "execute_result",
          "data": {
            "text/plain": [
              "<keras.callbacks.History at 0x7f3d67f95310>"
            ]
          },
          "metadata": {},
          "execution_count": 13
        }
      ]
    },
    {
      "cell_type": "code",
      "source": [
        "model.save('INSTRU.h5')"
      ],
      "metadata": {
        "id": "KAdJZgYGI5Ik"
      },
      "execution_count": 14,
      "outputs": []
    },
    {
      "cell_type": "code",
      "source": [
        "model_hoa = load_model('INSTRU.h5')"
      ],
      "metadata": {
        "id": "idZ-ehurMJMG"
      },
      "execution_count": 15,
      "outputs": []
    },
    {
      "cell_type": "code",
      "source": [
        "Score=model.evaluate(train_set,verbose=0)\n",
        "print('Train Loss', Score[0])\n",
        "print('Train Accuracy', Score[1])"
      ],
      "metadata": {
        "id": "fX5engQqMMh_",
        "colab": {
          "base_uri": "https://localhost:8080/"
        },
        "outputId": "2b48d611-6acb-4bac-a661-ad26ebdadb7b"
      },
      "execution_count": 16,
      "outputs": [
        {
          "output_type": "stream",
          "name": "stdout",
          "text": [
            "Train Loss 0.009944958612322807\n",
            "Train Accuracy 0.9965635538101196\n"
          ]
        }
      ]
    },
    {
      "cell_type": "code",
      "source": [
        "img = load_img('/content/đàn bàu.jpg',target_size = (150,150))\n",
        "plt.imshow(img)\n",
        "img=img_to_array(img)\n",
        "img=img.astype('float32')\n",
        "img=img/255\n",
        "img=np.expand_dims(img,axis=0)\n",
        "result=model_hoa.predict(img)\n",
        "class_hoa=['Sáo Trúc','Đàn Bầu','Đàn Nguyệt','Đàn Tranh','Đàn Tỳ Bà','Đàn Đá']\n",
        "a= int(np.argmax(model.predict(img),axis=1))\n",
        "print(\"Đây là đàn:\", class_hoa[a])"
      ],
      "metadata": {
        "id": "ApK9vXKwMPBu",
        "colab": {
          "base_uri": "https://localhost:8080/",
          "height": 321
        },
        "outputId": "faeec321-d84d-4c36-85b2-d64f84dc8589"
      },
      "execution_count": 17,
      "outputs": [
        {
          "output_type": "stream",
          "name": "stdout",
          "text": [
            "1/1 [==============================] - 0s 318ms/step\n",
            "1/1 [==============================] - 0s 84ms/step\n",
            "Đây là đàn: Đàn Bầu\n"
          ]
        },
        {
          "output_type": "display_data",
          "data": {
            "text/plain": [
              "<Figure size 432x288 with 1 Axes>"
            ],
            "image/png": "[encoded data removed]"
          },
          "metadata": {
            "needs_background": "light"
          }
        }
      ]
    }
  ]
}